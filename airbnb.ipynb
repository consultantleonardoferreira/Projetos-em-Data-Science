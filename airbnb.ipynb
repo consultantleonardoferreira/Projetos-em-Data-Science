{
  "nbformat": 4,
  "nbformat_minor": 0,
  "metadata": {
    "colab": {
      "name": "airbnb.ipynb",
      "provenance": [],
      "collapsed_sections": [],
      "authorship_tag": "ABX9TyNb9EJAisYPrWow6A1+UBV4",
      "include_colab_link": true
    },
    "kernelspec": {
      "name": "python3",
      "display_name": "Python 3"
    }
  },
  "cells": [
    {
      "cell_type": "markdown",
      "metadata": {
        "id": "view-in-github",
        "colab_type": "text"
      },
      "source": [
        "<a href=\"https://colab.research.google.com/github/consultantleonardoferreira/Projetos-em-Data-Science/blob/master/airbnb.ipynb\" target=\"_parent\"><img src=\"https://colab.research.google.com/assets/colab-badge.svg\" alt=\"Open In Colab\"/></a>"
      ]
    },
    {
      "cell_type": "markdown",
      "metadata": {
        "id": "RSH4pg5LORp7",
        "colab_type": "text"
      },
      "source": [
        "#**Portfólio de Projetos Data Science**\n",
        "#**Case Airbnb - Cidade do Rio de Janeiro**\n",
        "*by Leonardo Ferreira*\n",
        "\n",
        "---\n",
        "<img alt=\"Colaboratory logo\" width=\"100%\" src=\"https://raw.githubusercontent.com/consultantleonardoferreira/eds-enem-2018/master/rio-de-janeiro-809756_1920.jpg?token=AOVROUS7PQX3XPLX4XRRF5S65HPYQ\">\n",
        "\n",
        "\n",
        "\n"
      ]
    },
    {
      "cell_type": "markdown",
      "metadata": {
        "id": "rNUADLktQ_8u",
        "colab_type": "text"
      },
      "source": [
        "### **Metodologia CRISP - DM**\n",
        "\n",
        "O projeto utilizou-se da metodologia **CRISP-DM** (Cross Industry Process Model for Data Mining) adaptada para projetos em Data Science - DS (Análise Exploratória de Dados, Machine Learning, Deep Learning, dentre outras aplicações). A referida metodologia baseia-se em 06 (seis) etapas, a saber: Entendimento do Negócio, Entendimento dos Dados,  Preparação dos Dados, Construção dos Modelos, Avaliação e Implementação.\n",
        "\n",
        "<img alt=\"Colaboratory logo\" width=\"75%\" src=\"https://raw.githubusercontent.com/consultantleonardoferreira/Projetos-em-Data-Science/master/crisphorizontal.png\">"
      ]
    },
    {
      "cell_type": "markdown",
      "metadata": {
        "id": "4YtdrPKOVZfK",
        "colab_type": "text"
      },
      "source": [
        "### **A. Entendendo o Negócio:** \n",
        "\n",
        "Nesta etapa serão estudados os objetivos do negócio, avaliada a situação negócio (quais problemas a serem resolvidos?), bem como determinado as metas e ou objetivos para o projeto de Data Science (quais objetivos e métricas de sucesso?)"
      ]
    },
    {
      "cell_type": "markdown",
      "metadata": {
        "id": "XWqdgEqVdE5j",
        "colab_type": "text"
      },
      "source": [
        "**A1. Objetivos do Negócio.**\n",
        "\n",
        "O [Airbnb](https://www.airbnb.com.br/) começou em 2008, quando dois designers que tinham um espaço sobrando hospedaram três viajantes que procuravam um lugar para ficar. Agora, milhões de anfitriões e viajantes optam por criar uma conta gratuita no Airbnb para que possam anunciar seu espaço e reservar acomodações únicas em qualquer lugar do mundo. Além disso, os anfitriões de experiências do Airbnb compartilham suas paixões e interesses com viajantes e moradores locais.\n",
        "\n",
        "O site tem como missão tornar o compartilhamento fácil, agradável e seguro. Segundo a empresa:\" Verificamos perfis pessoais e anúncios, mantemos um sistema de mensagens inteligente para que anfitriões e hóspedes possam se comunicar com segurança e gerenciamos uma plataforma confiável para recolher e transferir pagamentos\".\n",
        "\n",
        "No Brasil, o Airbnb está acumulando boas taxas de crescimento e, somente do começo de 2012 até agora, 90 mil diárias foram registradas através do serviço, um aumento de 1180% em comparação às 7 mil diárias computadas em 2011. Até o mês de abril, os hosts brasileiros lucraram aproximadamente 2,5 milhões pela plataforma e somente os hosts ativos do Rio de Janeiro lucraram, cada um, uma média de R$ 10 mil até a data do último levantamento.\n",
        "\n",
        "<center><img alt=\"Analisando Airbnb\" width=\"30%\" src=\"https://www.area360.com.au/wp-content/uploads/2017/09/airbnb-logo.jpg\"></center>\n",
        "\n",
        "**A2. Quais os problemas a serem resolvidos?**\n",
        "\n",
        "No presente projeto busca-se resolver os seguintes problemas identificados pelo contratante do projeto em relação:\n",
        "\n",
        "* Quais os principais tipos de imóveis locados na cidade do Rio de Janeiro?\n",
        "* Quais os bairros com maior custo de locação na cidade do Rio de Janeiro?\n",
        "* Qual o custo médio de locação das unidades na cidade do Rio de Janeiro?\n",
        "* Qual a quantidade média de diárias por locação na cidade do Rio de Janeiro?\n",
        "* Qual a disponibidade médias dos imóveis na cidade do Rio de Janeiro?\n",
        "\n",
        "**A3. Quais as métricas para aferição do sucesso do projeto de DS?**\n",
        "\n",
        "* Respostas para as 5 (cinco) situações problemas apresentadas no item A2 considerando os dados disponibilizados pelo contratante, bem como integração com novas bases de dados a serem utilizadas na busca da solução dos problemas.\n",
        "\n",
        "\n",
        "\n",
        "\n"
      ]
    },
    {
      "cell_type": "markdown",
      "metadata": {
        "id": "K-JRO__xYvxc",
        "colab_type": "text"
      },
      "source": [
        "### **B. Entendendo os Dados:**\n",
        "\n",
        "Nesta etapa estaremos coletando os dados iniciais, descrevendo os referidos dados, bem como explorando os dados com as estatísticas descritivas e por fim, verificando a qualidade de dados.\n"
      ]
    },
    {
      "cell_type": "markdown",
      "metadata": {
        "id": "U9-tpylpdW4y",
        "colab_type": "text"
      },
      "source": [
        "##### **B1.Coletando os dados iniciais**\n",
        "\n",
        "Por meio do portal [Inside Airbnb](http://insideairbnb.com/get-the-data.html), é possível baixar uma grande quantidade de dados para desenvolver projetos e soluções em *Data Science*.\n",
        "\n",
        "Dessa forma, foi selecionado o arquivo (listings.csv) - Summary information and metrics for listings in Rio de Janeiro (good for visualisations)."
      ]
    },
    {
      "cell_type": "code",
      "metadata": {
        "id": "LmMKEROuc2JI",
        "colab_type": "code",
        "colab": {
          "base_uri": "https://localhost:8080/",
          "height": 70
        },
        "outputId": "14c8f4bf-745a-4e32-cd5e-2c969a71b7f1"
      },
      "source": [
        "# Carregando os pacotes do Python necessários à execução do Projeto de Data Science.\n",
        "\n",
        "import pandas as pd\n",
        "import matplotlib.pyplot as plt\n",
        "import seaborn as sns\n",
        "%matplotlib inline"
      ],
      "execution_count": 1,
      "outputs": [
        {
          "output_type": "stream",
          "text": [
            "/usr/local/lib/python3.6/dist-packages/statsmodels/tools/_testing.py:19: FutureWarning: pandas.util.testing is deprecated. Use the functions in the public API at pandas.testing instead.\n",
            "  import pandas.util.testing as tm\n"
          ],
          "name": "stderr"
        }
      ]
    },
    {
      "cell_type": "code",
      "metadata": {
        "id": "7E1cbhnUZLjL",
        "colab_type": "code",
        "colab": {}
      },
      "source": [
        "# Carregando o dataset com informações da plataforma Airbnb.\n",
        "\n",
        "df = pd.read_csv(\"http://data.insideairbnb.com/brazil/rj/rio-de-janeiro/2020-04-20/visualisations/listings.csv\")"
      ],
      "execution_count": 0,
      "outputs": []
    },
    {
      "cell_type": "markdown",
      "metadata": {
        "id": "zKZbRzZKkfqs",
        "colab_type": "text"
      },
      "source": [
        "##### **B2. Descrevendo os dados**\n",
        "\n",
        "Nessa etapa os dados são descritos com objetivo de conhecermos seu formato, os tipos de variáveis (numéricas ou categóricas), bem como aspectos gerais úteis ao entendimento geral do problema.\n",
        "\n"
      ]
    },
    {
      "cell_type": "code",
      "metadata": {
        "id": "sjzvWl_onJeC",
        "colab_type": "code",
        "outputId": "f634ac8a-ca31-439a-a918-c2e3cf05db7b",
        "colab": {
          "base_uri": "https://localhost:8080/",
          "height": 33
        }
      },
      "source": [
        "# Conhecendo o formato do dataset.\n",
        "\n",
        "df.shape"
      ],
      "execution_count": 3,
      "outputs": [
        {
          "output_type": "execute_result",
          "data": {
            "text/plain": [
              "(35870, 16)"
            ]
          },
          "metadata": {
            "tags": []
          },
          "execution_count": 3
        }
      ]
    },
    {
      "cell_type": "markdown",
      "metadata": {
        "id": "XzFaZwMA1kiQ",
        "colab_type": "text"
      },
      "source": [
        "Em uma análise inicial percebe-se que o dataset apresenta um total de **35870** linhas, entradas ou observações, bem como um total de **16** colunas, variáveis ou features. Sendo interessante a construção de um dicionário com o significado das variáveis para melhor compreensão do problema geral. Adicionalmente, é bastante interessante verificarmos os tipos das variáveis que integram nosso dataset: inteiras, float, objetos. Tal análise poderá indicar na fase de preparação dos dados a necessidade de transformações para melhor aplicação de técnicas de Data Science."
      ]
    },
    {
      "cell_type": "code",
      "metadata": {
        "id": "UxhdaK1E1SQQ",
        "colab_type": "code",
        "outputId": "52e7dff9-5a5c-4114-e0e7-1779f9dda7cf",
        "colab": {
          "base_uri": "https://localhost:8080/",
          "height": 300
        }
      },
      "source": [
        "# Conhecendo as varíaveis e seus tipos.\n",
        "\n",
        "display(df.dtypes)"
      ],
      "execution_count": 0,
      "outputs": [
        {
          "output_type": "display_data",
          "data": {
            "text/plain": [
              "id                                  int64\n",
              "name                               object\n",
              "host_id                             int64\n",
              "host_name                          object\n",
              "neighbourhood_group               float64\n",
              "neighbourhood                      object\n",
              "latitude                          float64\n",
              "longitude                         float64\n",
              "room_type                          object\n",
              "price                               int64\n",
              "minimum_nights                      int64\n",
              "number_of_reviews                   int64\n",
              "last_review                        object\n",
              "reviews_per_month                 float64\n",
              "calculated_host_listings_count      int64\n",
              "availability_365                    int64\n",
              "dtype: object"
            ]
          },
          "metadata": {
            "tags": []
          }
        }
      ]
    },
    {
      "cell_type": "markdown",
      "metadata": {
        "id": "Wt1-yzfZnXUK",
        "colab_type": "text"
      },
      "source": [
        "**Dicionário das variáveis**\n",
        "\n",
        "* `id` - número de id gerado para identificar o imóvel.\n",
        "* `name` - nome da propriedade anunciada.\n",
        "* `host_id` - número de id do proprietário (anfitrião) da propriedade.\n",
        "* `host_name` - Nome do anfitrião.\n",
        "* `neighbourhood_group` - esta coluna não contém nenhum valor válido.\n",
        "* `neighbourhood` - nome do bairro.\n",
        "* `latitude` - coordenada da latitude da propriedade.\n",
        "* `longitude` - coordenada da longitude da propriedade.\n",
        "* `room_type` - informa o tipo de quarto que é oferecido.\n",
        "* `price` - preço para alugar o imóvel.\n",
        "* `minimum_nights` - quantidade mínima de noites para reservar.\n",
        "* `number_of_reviews` - número de reviews que a propriedade possui.\n",
        "* `last_review` - data do último review.\n",
        "* `reviews_per_month` - quantidade de reviews por mês.\n",
        "* `calculated_host_listings_count` - quantidade de imóveis do mesmo anfitrião.\n",
        "* `availability_365` - número de dias de disponibilidade dentro de 365 dias."
      ]
    },
    {
      "cell_type": "markdown",
      "metadata": {
        "id": "jC5lOhERpbMG",
        "colab_type": "text"
      },
      "source": [
        "E por fim, nesta etapa, é interessante visualizarmos a estrutura do nosso dataset com suas linhas e colunas dispostos em forma tabular (Data Frame) com a possibilidade de identificação prematura de dados faltantes, possíveis valores discrepantes, dentre outras questões. É o primeiro contato com o dataset!"
      ]
    },
    {
      "cell_type": "code",
      "metadata": {
        "id": "GGZhJyQNkG6x",
        "colab_type": "code",
        "outputId": "4a419a0d-efcb-4f37-bb91-541c95c9eab4",
        "colab": {
          "base_uri": "https://localhost:8080/",
          "height": 467
        }
      },
      "source": [
        "# Comando para visualizarmos as 5 primeiras linhas do Dataset.\n",
        "\n",
        "df.head()\n"
      ],
      "execution_count": 0,
      "outputs": [
        {
          "output_type": "execute_result",
          "data": {
            "text/html": [
              "<div>\n",
              "<style scoped>\n",
              "    .dataframe tbody tr th:only-of-type {\n",
              "        vertical-align: middle;\n",
              "    }\n",
              "\n",
              "    .dataframe tbody tr th {\n",
              "        vertical-align: top;\n",
              "    }\n",
              "\n",
              "    .dataframe thead th {\n",
              "        text-align: right;\n",
              "    }\n",
              "</style>\n",
              "<table border=\"1\" class=\"dataframe\">\n",
              "  <thead>\n",
              "    <tr style=\"text-align: right;\">\n",
              "      <th></th>\n",
              "      <th>id</th>\n",
              "      <th>name</th>\n",
              "      <th>host_id</th>\n",
              "      <th>host_name</th>\n",
              "      <th>neighbourhood_group</th>\n",
              "      <th>neighbourhood</th>\n",
              "      <th>latitude</th>\n",
              "      <th>longitude</th>\n",
              "      <th>room_type</th>\n",
              "      <th>price</th>\n",
              "      <th>minimum_nights</th>\n",
              "      <th>number_of_reviews</th>\n",
              "      <th>last_review</th>\n",
              "      <th>reviews_per_month</th>\n",
              "      <th>calculated_host_listings_count</th>\n",
              "      <th>availability_365</th>\n",
              "    </tr>\n",
              "  </thead>\n",
              "  <tbody>\n",
              "    <tr>\n",
              "      <th>0</th>\n",
              "      <td>17878</td>\n",
              "      <td>Very Nice 2Br - Copacabana - WiFi</td>\n",
              "      <td>68997</td>\n",
              "      <td>Matthias</td>\n",
              "      <td>NaN</td>\n",
              "      <td>Copacabana</td>\n",
              "      <td>-22.96592</td>\n",
              "      <td>-43.17896</td>\n",
              "      <td>Entire home/apt</td>\n",
              "      <td>218</td>\n",
              "      <td>5</td>\n",
              "      <td>251</td>\n",
              "      <td>2020-04-06</td>\n",
              "      <td>2.11</td>\n",
              "      <td>1</td>\n",
              "      <td>0</td>\n",
              "    </tr>\n",
              "    <tr>\n",
              "      <th>1</th>\n",
              "      <td>21280</td>\n",
              "      <td>Renovated Modern Apt. Near Beach</td>\n",
              "      <td>81163</td>\n",
              "      <td>Jules</td>\n",
              "      <td>NaN</td>\n",
              "      <td>Ipanema</td>\n",
              "      <td>-22.98467</td>\n",
              "      <td>-43.19611</td>\n",
              "      <td>Entire home/apt</td>\n",
              "      <td>422</td>\n",
              "      <td>5</td>\n",
              "      <td>94</td>\n",
              "      <td>2020-03-22</td>\n",
              "      <td>1.25</td>\n",
              "      <td>1</td>\n",
              "      <td>69</td>\n",
              "    </tr>\n",
              "    <tr>\n",
              "      <th>2</th>\n",
              "      <td>25026</td>\n",
              "      <td>Beautiful Modern Decorated Studio in Copa</td>\n",
              "      <td>102840</td>\n",
              "      <td>Viviane</td>\n",
              "      <td>NaN</td>\n",
              "      <td>Copacabana</td>\n",
              "      <td>-22.97712</td>\n",
              "      <td>-43.19045</td>\n",
              "      <td>Entire home/apt</td>\n",
              "      <td>158</td>\n",
              "      <td>7</td>\n",
              "      <td>238</td>\n",
              "      <td>2020-02-15</td>\n",
              "      <td>1.98</td>\n",
              "      <td>3</td>\n",
              "      <td>95</td>\n",
              "    </tr>\n",
              "    <tr>\n",
              "      <th>3</th>\n",
              "      <td>31560</td>\n",
              "      <td>NICE &amp; COZY 1BDR - IPANEMA BEACH</td>\n",
              "      <td>135635</td>\n",
              "      <td>Renata</td>\n",
              "      <td>NaN</td>\n",
              "      <td>Ipanema</td>\n",
              "      <td>-22.98302</td>\n",
              "      <td>-43.21427</td>\n",
              "      <td>Entire home/apt</td>\n",
              "      <td>342</td>\n",
              "      <td>2</td>\n",
              "      <td>282</td>\n",
              "      <td>2020-03-02</td>\n",
              "      <td>2.37</td>\n",
              "      <td>1</td>\n",
              "      <td>0</td>\n",
              "    </tr>\n",
              "    <tr>\n",
              "      <th>4</th>\n",
              "      <td>35636</td>\n",
              "      <td>Cosy flat close to Ipanema beach</td>\n",
              "      <td>153232</td>\n",
              "      <td>Patricia</td>\n",
              "      <td>NaN</td>\n",
              "      <td>Ipanema</td>\n",
              "      <td>-22.98816</td>\n",
              "      <td>-43.19359</td>\n",
              "      <td>Entire home/apt</td>\n",
              "      <td>479</td>\n",
              "      <td>2</td>\n",
              "      <td>181</td>\n",
              "      <td>2020-03-15</td>\n",
              "      <td>2.29</td>\n",
              "      <td>1</td>\n",
              "      <td>358</td>\n",
              "    </tr>\n",
              "  </tbody>\n",
              "</table>\n",
              "</div>"
            ],
            "text/plain": [
              "      id  ... availability_365\n",
              "0  17878  ...                0\n",
              "1  21280  ...               69\n",
              "2  25026  ...               95\n",
              "3  31560  ...                0\n",
              "4  35636  ...              358\n",
              "\n",
              "[5 rows x 16 columns]"
            ]
          },
          "metadata": {
            "tags": []
          },
          "execution_count": 12
        }
      ]
    },
    {
      "cell_type": "code",
      "metadata": {
        "id": "8wR5IjNbKqtD",
        "colab_type": "code",
        "outputId": "337dbf97-d1f7-4066-8006-82e64e6f2597",
        "colab": {
          "base_uri": "https://localhost:8080/",
          "height": 484
        }
      },
      "source": [
        "# Comando para visualizarmos as 5 últimas linhas do Dataset.\n",
        "\n",
        "df.tail()"
      ],
      "execution_count": 0,
      "outputs": [
        {
          "output_type": "execute_result",
          "data": {
            "text/html": [
              "<div>\n",
              "<style scoped>\n",
              "    .dataframe tbody tr th:only-of-type {\n",
              "        vertical-align: middle;\n",
              "    }\n",
              "\n",
              "    .dataframe tbody tr th {\n",
              "        vertical-align: top;\n",
              "    }\n",
              "\n",
              "    .dataframe thead th {\n",
              "        text-align: right;\n",
              "    }\n",
              "</style>\n",
              "<table border=\"1\" class=\"dataframe\">\n",
              "  <thead>\n",
              "    <tr style=\"text-align: right;\">\n",
              "      <th></th>\n",
              "      <th>id</th>\n",
              "      <th>name</th>\n",
              "      <th>host_id</th>\n",
              "      <th>host_name</th>\n",
              "      <th>neighbourhood_group</th>\n",
              "      <th>neighbourhood</th>\n",
              "      <th>latitude</th>\n",
              "      <th>longitude</th>\n",
              "      <th>room_type</th>\n",
              "      <th>price</th>\n",
              "      <th>minimum_nights</th>\n",
              "      <th>number_of_reviews</th>\n",
              "      <th>last_review</th>\n",
              "      <th>reviews_per_month</th>\n",
              "      <th>calculated_host_listings_count</th>\n",
              "      <th>availability_365</th>\n",
              "    </tr>\n",
              "  </thead>\n",
              "  <tbody>\n",
              "    <tr>\n",
              "      <th>35865</th>\n",
              "      <td>43222409</td>\n",
              "      <td>Suíte fenomenal em mansão de luxo</td>\n",
              "      <td>27531233</td>\n",
              "      <td>Tiago</td>\n",
              "      <td>NaN</td>\n",
              "      <td>Itanhangá</td>\n",
              "      <td>-22.98356</td>\n",
              "      <td>-43.30366</td>\n",
              "      <td>Private room</td>\n",
              "      <td>64</td>\n",
              "      <td>2</td>\n",
              "      <td>0</td>\n",
              "      <td>NaN</td>\n",
              "      <td>NaN</td>\n",
              "      <td>5</td>\n",
              "      <td>336</td>\n",
              "    </tr>\n",
              "    <tr>\n",
              "      <th>35866</th>\n",
              "      <td>43222788</td>\n",
              "      <td>Quarto Casal Individual ARPOADOR / IPANEMA</td>\n",
              "      <td>62913860</td>\n",
              "      <td>Rodolfo</td>\n",
              "      <td>NaN</td>\n",
              "      <td>Ipanema</td>\n",
              "      <td>-22.98526</td>\n",
              "      <td>-43.19385</td>\n",
              "      <td>Private room</td>\n",
              "      <td>68</td>\n",
              "      <td>28</td>\n",
              "      <td>0</td>\n",
              "      <td>NaN</td>\n",
              "      <td>NaN</td>\n",
              "      <td>1</td>\n",
              "      <td>365</td>\n",
              "    </tr>\n",
              "    <tr>\n",
              "      <th>35867</th>\n",
              "      <td>43222989</td>\n",
              "      <td>Perto da praia? Aqui mesmo. Copacabana!</td>\n",
              "      <td>128128458</td>\n",
              "      <td>Marcia E</td>\n",
              "      <td>NaN</td>\n",
              "      <td>Copacabana</td>\n",
              "      <td>-22.97516</td>\n",
              "      <td>-43.19261</td>\n",
              "      <td>Entire home/apt</td>\n",
              "      <td>248</td>\n",
              "      <td>3</td>\n",
              "      <td>0</td>\n",
              "      <td>NaN</td>\n",
              "      <td>NaN</td>\n",
              "      <td>2</td>\n",
              "      <td>69</td>\n",
              "    </tr>\n",
              "    <tr>\n",
              "      <th>35868</th>\n",
              "      <td>43223062</td>\n",
              "      <td>Loft confortável para sua estadia.</td>\n",
              "      <td>344170057</td>\n",
              "      <td>Viviane &amp; Jefferson</td>\n",
              "      <td>NaN</td>\n",
              "      <td>Leme</td>\n",
              "      <td>-22.96379</td>\n",
              "      <td>-43.17193</td>\n",
              "      <td>Entire home/apt</td>\n",
              "      <td>121</td>\n",
              "      <td>2</td>\n",
              "      <td>0</td>\n",
              "      <td>NaN</td>\n",
              "      <td>NaN</td>\n",
              "      <td>1</td>\n",
              "      <td>270</td>\n",
              "    </tr>\n",
              "    <tr>\n",
              "      <th>35869</th>\n",
              "      <td>43227835</td>\n",
              "      <td>Quarto confortável ao lado da Jeunesse Arena</td>\n",
              "      <td>125684729</td>\n",
              "      <td>Gustavo</td>\n",
              "      <td>NaN</td>\n",
              "      <td>Barra da Tijuca</td>\n",
              "      <td>-22.97738</td>\n",
              "      <td>-43.37373</td>\n",
              "      <td>Private room</td>\n",
              "      <td>250</td>\n",
              "      <td>1</td>\n",
              "      <td>0</td>\n",
              "      <td>NaN</td>\n",
              "      <td>NaN</td>\n",
              "      <td>2</td>\n",
              "      <td>0</td>\n",
              "    </tr>\n",
              "  </tbody>\n",
              "</table>\n",
              "</div>"
            ],
            "text/plain": [
              "             id  ... availability_365\n",
              "35865  43222409  ...              336\n",
              "35866  43222788  ...              365\n",
              "35867  43222989  ...               69\n",
              "35868  43223062  ...              270\n",
              "35869  43227835  ...                0\n",
              "\n",
              "[5 rows x 16 columns]"
            ]
          },
          "metadata": {
            "tags": []
          },
          "execution_count": 15
        }
      ]
    },
    {
      "cell_type": "markdown",
      "metadata": {
        "id": "qA8Sy7ApqRzm",
        "colab_type": "text"
      },
      "source": [
        "##### **B3.Estatísticas Descritivas**\n",
        "\n",
        "Agora que já conhecemos a estrutura de nossos dados, passamos para etapa de identificação da qualidade de nossos dados, por meio da aplicação de técnicas de estatística descritiva, com especial atenção para identificação de valores faltantes, presença de outliers, análise de correlações entre as variáveis, dentre outras questões relevantes nessa fase inicial."
      ]
    },
    {
      "cell_type": "code",
      "metadata": {
        "id": "yi7UTMYIrxHY",
        "colab_type": "code",
        "outputId": "118f5473-2370-4a9b-b743-dc0589d5b8b3",
        "colab": {
          "base_uri": "https://localhost:8080/",
          "height": 300
        }
      },
      "source": [
        "# Cálculo do percentual de dados faltantes no Dataset.\n",
        "\n",
        "(df.isnull().sum() / df.shape[0]).sort_values(ascending=False)"
      ],
      "execution_count": 4,
      "outputs": [
        {
          "output_type": "execute_result",
          "data": {
            "text/plain": [
              "neighbourhood_group               1.000000\n",
              "reviews_per_month                 0.411653\n",
              "last_review                       0.411653\n",
              "name                              0.001617\n",
              "host_name                         0.000139\n",
              "availability_365                  0.000000\n",
              "calculated_host_listings_count    0.000000\n",
              "number_of_reviews                 0.000000\n",
              "minimum_nights                    0.000000\n",
              "price                             0.000000\n",
              "room_type                         0.000000\n",
              "longitude                         0.000000\n",
              "latitude                          0.000000\n",
              "neighbourhood                     0.000000\n",
              "host_id                           0.000000\n",
              "id                                0.000000\n",
              "dtype: float64"
            ]
          },
          "metadata": {
            "tags": []
          },
          "execution_count": 4
        }
      ]
    },
    {
      "cell_type": "markdown",
      "metadata": {
        "id": "AXrOwTdw43fl",
        "colab_type": "text"
      },
      "source": [
        "**Quanto à questão de dados faltantes, em uma breve verificação podemos identificar que:**\n",
        "\n",
        "* A coluna **`neighbourhood_group`** possui 100% dos seus valores faltantes. \n",
        "* As variáveis**`reviews_per_month`** e **`last_review`** possuem valores nulos em quase metade das linhas.\n",
        "* As variáveis **`name`** e **`host_name`** têm aproximadamente 0,1% dos valores nulos.\n"
      ]
    },
    {
      "cell_type": "code",
      "metadata": {
        "id": "0lVEVctptJef",
        "colab_type": "code",
        "outputId": "4e1b55aa-b87b-4895-d572-bb0f47ea468d",
        "colab": {
          "base_uri": "https://localhost:8080/",
          "height": 878
        }
      },
      "source": [
        "# Contrução dos histogramas das variáveis do dataset.\n",
        "\n",
        "df.hist(bins=15, figsize=(15,15));"
      ],
      "execution_count": 6,
      "outputs": [
        {
          "output_type": "display_data",
          "data": {
            "image/png": "[encoded data removed]",
            "text/plain": [
              "<Figure size 1080x1080 with 12 Axes>"
            ]
          },
          "metadata": {
            "tags": [],
            "needs_background": "light"
          }
        }
      ]
    },
    {
      "cell_type": "markdown",
      "metadata": {
        "id": "tu0l0lWjDk6I",
        "colab_type": "text"
      },
      "source": [
        "**Quanto à questão da presença de outliers, em uma rápida análise podemos identificar que:** \n",
        "\n",
        "Pela distribuição do histograma, é possível verificar indícios da presença de *outliers*. Veja por exemplo as variáveis **`price`**, **`minimum_nights`** e **`calculated_host_listings_count`**. Os valores não seguem uma distruição, e distorcem toda a representação gráfica.\n",
        "\n",
        "Para confirmar, há duas maneiras rápidas que auxiliam a detecção de *outliers*. São elas:\n",
        "\n",
        "* Resumo estatístico por meio do método `describe()`\n",
        "\n",
        "* Plotar `boxplots` para a variável.\n"
      ]
    },
    {
      "cell_type": "code",
      "metadata": {
        "id": "vvydjUlQQ8tL",
        "colab_type": "code",
        "outputId": "6580c79e-16c9-402d-829c-7dce764f9962",
        "colab": {
          "base_uri": "https://localhost:8080/",
          "height": 287
        }
      },
      "source": [
        "# Construindo os resumos estatísticos das variáveis numéricas usando a função describe.\n",
        "\n",
        "df[['price', 'minimum_nights', 'number_of_reviews', 'reviews_per_month',\n",
        "    'calculated_host_listings_count', 'availability_365']].describe()"
      ],
      "execution_count": 7,
      "outputs": [
        {
          "output_type": "execute_result",
          "data": {
            "text/html": [
              "<div>\n",
              "<style scoped>\n",
              "    .dataframe tbody tr th:only-of-type {\n",
              "        vertical-align: middle;\n",
              "    }\n",
              "\n",
              "    .dataframe tbody tr th {\n",
              "        vertical-align: top;\n",
              "    }\n",
              "\n",
              "    .dataframe thead th {\n",
              "        text-align: right;\n",
              "    }\n",
              "</style>\n",
              "<table border=\"1\" class=\"dataframe\">\n",
              "  <thead>\n",
              "    <tr style=\"text-align: right;\">\n",
              "      <th></th>\n",
              "      <th>price</th>\n",
              "      <th>minimum_nights</th>\n",
              "      <th>number_of_reviews</th>\n",
              "      <th>reviews_per_month</th>\n",
              "      <th>calculated_host_listings_count</th>\n",
              "      <th>availability_365</th>\n",
              "    </tr>\n",
              "  </thead>\n",
              "  <tbody>\n",
              "    <tr>\n",
              "      <th>count</th>\n",
              "      <td>35870.000000</td>\n",
              "      <td>35870.000000</td>\n",
              "      <td>35870.000000</td>\n",
              "      <td>21104.000000</td>\n",
              "      <td>35870.000000</td>\n",
              "      <td>35870.000000</td>\n",
              "    </tr>\n",
              "    <tr>\n",
              "      <th>mean</th>\n",
              "      <td>753.686367</td>\n",
              "      <td>4.781851</td>\n",
              "      <td>9.822972</td>\n",
              "      <td>0.652248</td>\n",
              "      <td>6.613995</td>\n",
              "      <td>180.371815</td>\n",
              "    </tr>\n",
              "    <tr>\n",
              "      <th>std</th>\n",
              "      <td>2229.366334</td>\n",
              "      <td>22.471085</td>\n",
              "      <td>25.827647</td>\n",
              "      <td>0.823388</td>\n",
              "      <td>22.769663</td>\n",
              "      <td>152.510778</td>\n",
              "    </tr>\n",
              "    <tr>\n",
              "      <th>min</th>\n",
              "      <td>0.000000</td>\n",
              "      <td>1.000000</td>\n",
              "      <td>0.000000</td>\n",
              "      <td>0.010000</td>\n",
              "      <td>1.000000</td>\n",
              "      <td>0.000000</td>\n",
              "    </tr>\n",
              "    <tr>\n",
              "      <th>25%</th>\n",
              "      <td>158.000000</td>\n",
              "      <td>1.000000</td>\n",
              "      <td>0.000000</td>\n",
              "      <td>0.130000</td>\n",
              "      <td>1.000000</td>\n",
              "      <td>0.000000</td>\n",
              "    </tr>\n",
              "    <tr>\n",
              "      <th>50%</th>\n",
              "      <td>298.000000</td>\n",
              "      <td>2.000000</td>\n",
              "      <td>1.000000</td>\n",
              "      <td>0.340000</td>\n",
              "      <td>1.000000</td>\n",
              "      <td>178.000000</td>\n",
              "    </tr>\n",
              "    <tr>\n",
              "      <th>75%</th>\n",
              "      <td>632.000000</td>\n",
              "      <td>4.000000</td>\n",
              "      <td>6.000000</td>\n",
              "      <td>0.830000</td>\n",
              "      <td>3.000000</td>\n",
              "      <td>363.000000</td>\n",
              "    </tr>\n",
              "    <tr>\n",
              "      <th>max</th>\n",
              "      <td>131727.000000</td>\n",
              "      <td>1123.000000</td>\n",
              "      <td>399.000000</td>\n",
              "      <td>9.570000</td>\n",
              "      <td>200.000000</td>\n",
              "      <td>365.000000</td>\n",
              "    </tr>\n",
              "  </tbody>\n",
              "</table>\n",
              "</div>"
            ],
            "text/plain": [
              "               price  ...  availability_365\n",
              "count   35870.000000  ...      35870.000000\n",
              "mean      753.686367  ...        180.371815\n",
              "std      2229.366334  ...        152.510778\n",
              "min         0.000000  ...          0.000000\n",
              "25%       158.000000  ...          0.000000\n",
              "50%       298.000000  ...        178.000000\n",
              "75%       632.000000  ...        363.000000\n",
              "max    131727.000000  ...        365.000000\n",
              "\n",
              "[8 rows x 6 columns]"
            ]
          },
          "metadata": {
            "tags": []
          },
          "execution_count": 7
        }
      ]
    },
    {
      "cell_type": "markdown",
      "metadata": {
        "id": "ubc3rjeVRM0a",
        "colab_type": "text"
      },
      "source": [
        "**Quanto ao resumo das estatísticas, das variáveis numéricas do dataset, podemos verificar que:**\n",
        "\n",
        "* A variável **`price`** possui 75% do valor abaixo de 632, porém seu valor máximo é 131727.\n",
        "* A quantidade mínima de noites (**`minimum_nights`**) está acima de 365 dias no ano.\n",
        "\n",
        "Ambos os exemplos apontam para presença de outliers.  "
      ]
    },
    {
      "cell_type": "code",
      "metadata": {
        "id": "No7AafRhSw48",
        "colab_type": "code",
        "colab": {
          "base_uri": "https://localhost:8080/",
          "height": 261
        },
        "outputId": "4033927a-b9a4-4d69-d3be-795810f2e60c"
      },
      "source": [
        "# Construção do Boxplot para variável minimum_nights.\n",
        "\n",
        "df.minimum_nights.plot(kind='box', vert=False, figsize=(15, 3))\n",
        "plt.show()\n",
        "\n",
        "# Verificar a quantidade de valores acima de 30 dias para variável minimum_nights.\n",
        "\n",
        "print(\"minimum_nights: valores acima de 30:\")\n",
        "print(\"{} entradas\".format(len(df[df.minimum_nights > 30])))\n",
        "print(\"{:.4f}%\".format((len(df[df.minimum_nights > 30]) / df.shape[0])*100))"
      ],
      "execution_count": 8,
      "outputs": [
        {
          "output_type": "display_data",
          "data": {
            "image/png": "[encoded data removed]",
            "text/plain": [
              "<Figure size 1080x216 with 1 Axes>"
            ]
          },
          "metadata": {
            "tags": [],
            "needs_background": "light"
          }
        },
        {
          "output_type": "stream",
          "text": [
            "minimum_nights: valores acima de 30:\n",
            "224 entradas\n",
            "0.6245%\n"
          ],
          "name": "stdout"
        }
      ]
    },
    {
      "cell_type": "code",
      "metadata": {
        "id": "LxaFk_MOrlrJ",
        "colab_type": "code",
        "colab": {
          "base_uri": "https://localhost:8080/",
          "height": 277
        },
        "outputId": "02a393bb-853c-47ff-c5c1-9e0b252ba93f"
      },
      "source": [
        "# Construção do Boxplot para variável price.\n",
        "\n",
        "df.price.plot(kind='box', vert=False, figsize=(15, 3),)\n",
        "plt.show()\n",
        "\n",
        "# Verificar a quantidade de valores acima R$ 1500,00 para variável price.\n",
        "\n",
        "print(\"\\nprice: valores acima de 1500\")\n",
        "print(\"{} entradas\".format(len(df[df.price > 1500])))\n",
        "print(\"{:.4f}%\".format((len(df[df.price > 1500]) / df.shape[0])*100))\n",
        "\n",
        "# df.price.plot(kind='box', vert=False, xlim=(0,1300), figsize=(15,3));"
      ],
      "execution_count": 9,
      "outputs": [
        {
          "output_type": "display_data",
          "data": {
            "image/png": "[encoded data removed]",
            "text/plain": [
              "<Figure size 1080x216 with 1 Axes>"
            ]
          },
          "metadata": {
            "tags": [],
            "needs_background": "light"
          }
        },
        {
          "output_type": "stream",
          "text": [
            "\n",
            "price: valores acima de 1500\n",
            "3360 entradas\n",
            "9.3672%\n"
          ],
          "name": "stdout"
        }
      ]
    },
    {
      "cell_type": "markdown",
      "metadata": {
        "id": "InikA_M2qc5V",
        "colab_type": "text"
      },
      "source": [
        "**Quanto à construção dos Boxplots para verificar a presença de outliers, podemos verificar que:**\n",
        "\n",
        "* Considerando-se a variável **minimum_nights** que apresenta menos de 1% de valores acima de 30 dias de permanência nos imóveis locados, mas que causa um enorme impacto na média dos valores da variável, sendo forte candidata a ter seus valores transformados na etapa de preparação de dados.\n",
        "\n",
        "* Já na variável **price** identificamos quase 10% de valores de imóveis com valores acima de R$ 1500,00 o que pode estar distorcendo a média e mediana da distribuição, constituindo-se em forte candidato a receber tratamento na etapa de preparação dos dados."
      ]
    },
    {
      "cell_type": "markdown",
      "metadata": {
        "id": "BcVtLgapYynW",
        "colab_type": "text"
      },
      "source": [
        "### **C. Preparando os Dados:** \n",
        "\n",
        "Nesta etapa estaremos limpando os dados, integrando os dados, formatando os dados, construindo novos dados, para enfim, selecionar os dados que serão utilizados na construção de nosso modelo (análise exploratória de dados)."
      ]
    },
    {
      "cell_type": "markdown",
      "metadata": {
        "id": "D1USWHxfvdB3",
        "colab_type": "text"
      },
      "source": [
        "##### **C1.Limpeza dos Dados**\n",
        "\n",
        "Nesta etapa buscou-se remover os outliers identificados no dataset inicial para se plotar novamente os histogramas, bem como podermos calcular novamente as estatísticas descritivas no novo conjunto de dados."
      ]
    },
    {
      "cell_type": "code",
      "metadata": {
        "id": "pPghtxwcc1V8",
        "colab_type": "code",
        "colab": {
          "base_uri": "https://localhost:8080/",
          "height": 878
        },
        "outputId": "4a2463e9-4034-4eec-edb7-da7758cbee98"
      },
      "source": [
        "# Buscou-se remover os outliers na construção de um novo dataset.\n",
        "\n",
        "df_clean = df.copy()\n",
        "df_clean.drop(df_clean[df_clean.price > 1500].index, axis=0, inplace=True)\n",
        "df_clean.drop(df_clean[df_clean.minimum_nights > 30].index, axis=0, inplace=True)\n",
        "\n",
        "# Buscou-se remover a variável `neighbourhood_group`, pois encontra-se vazia.\n",
        "\n",
        "df_clean.drop('neighbourhood_group', axis=1, inplace=True)\n",
        "\n",
        "# E na sequência buscou-se plotar novamente o histograma para as variáveis numéricas.\n",
        "\n",
        "df_clean.hist(bins=15, figsize=(15,15));"
      ],
      "execution_count": 11,
      "outputs": [
        {
          "output_type": "display_data",
          "data": {
            "image/png": "[encoded data removed]",
            "text/plain": [
              "<Figure size 1080x1080 with 12 Axes>"
            ]
          },
          "metadata": {
            "tags": [],
            "needs_background": "light"
          }
        }
      ]
    },
    {
      "cell_type": "markdown",
      "metadata": {
        "id": "vXAn6YvCxE5I",
        "colab_type": "text"
      },
      "source": [
        "**Quanto ao novo conjunto de dados (df_clean), podemos verificar que:**\n",
        "\n",
        "* Conseguimos identificar uma clara distribuição de valores nos histogramas das variáveis  **minimum_nights** e **price** sem a presença de outliers.\n",
        "\n",
        "* Buscou-se eliminar a variável numérica **neighbourhood_group** pois a mesma não agregava valor ao conjunto de dados."
      ]
    },
    {
      "cell_type": "markdown",
      "metadata": {
        "id": "rnkIDIaoyNkK",
        "colab_type": "text"
      },
      "source": [
        "##### **C2.Correlação dos Dados**\n",
        "\n",
        "Nesta etapa vamos selecionar quais colunas, variáveis ou features serão selecionadas para comporem o nosso modelo de DS considerando suas importâncias no conjunto de dados. Vamos utilizar uma técnica de correlação estatísitica sobre as variáveis numéricas."
      ]
    },
    {
      "cell_type": "code",
      "metadata": {
        "id": "EovxiN12yyLB",
        "colab_type": "code",
        "colab": {
          "base_uri": "https://localhost:8080/",
          "height": 227
        },
        "outputId": "802eb72c-e5a0-4bcc-aaea-7afb19eaba36"
      },
      "source": [
        "# Construiu-se uma matriz de correlação entre as variáveis numéricas dataset df_clean.\n",
        "\n",
        "corr = df_clean[['price', 'minimum_nights', 'number_of_reviews', 'reviews_per_month',\n",
        "    'calculated_host_listings_count', 'availability_365']].corr()\n",
        "\n",
        "display(corr)"
      ],
      "execution_count": 12,
      "outputs": [
        {
          "output_type": "display_data",
          "data": {
            "text/html": [
              "<div>\n",
              "<style scoped>\n",
              "    .dataframe tbody tr th:only-of-type {\n",
              "        vertical-align: middle;\n",
              "    }\n",
              "\n",
              "    .dataframe tbody tr th {\n",
              "        vertical-align: top;\n",
              "    }\n",
              "\n",
              "    .dataframe thead th {\n",
              "        text-align: right;\n",
              "    }\n",
              "</style>\n",
              "<table border=\"1\" class=\"dataframe\">\n",
              "  <thead>\n",
              "    <tr style=\"text-align: right;\">\n",
              "      <th></th>\n",
              "      <th>price</th>\n",
              "      <th>minimum_nights</th>\n",
              "      <th>number_of_reviews</th>\n",
              "      <th>reviews_per_month</th>\n",
              "      <th>calculated_host_listings_count</th>\n",
              "      <th>availability_365</th>\n",
              "    </tr>\n",
              "  </thead>\n",
              "  <tbody>\n",
              "    <tr>\n",
              "      <th>price</th>\n",
              "      <td>1.000000</td>\n",
              "      <td>0.163318</td>\n",
              "      <td>-0.162241</td>\n",
              "      <td>-0.162366</td>\n",
              "      <td>0.047043</td>\n",
              "      <td>-0.015328</td>\n",
              "    </tr>\n",
              "    <tr>\n",
              "      <th>minimum_nights</th>\n",
              "      <td>0.163318</td>\n",
              "      <td>1.000000</td>\n",
              "      <td>-0.059857</td>\n",
              "      <td>-0.080109</td>\n",
              "      <td>-0.033148</td>\n",
              "      <td>-0.016418</td>\n",
              "    </tr>\n",
              "    <tr>\n",
              "      <th>number_of_reviews</th>\n",
              "      <td>-0.162241</td>\n",
              "      <td>-0.059857</td>\n",
              "      <td>1.000000</td>\n",
              "      <td>0.645518</td>\n",
              "      <td>-0.026347</td>\n",
              "      <td>0.050653</td>\n",
              "    </tr>\n",
              "    <tr>\n",
              "      <th>reviews_per_month</th>\n",
              "      <td>-0.162366</td>\n",
              "      <td>-0.080109</td>\n",
              "      <td>0.645518</td>\n",
              "      <td>1.000000</td>\n",
              "      <td>-0.013855</td>\n",
              "      <td>-0.020716</td>\n",
              "    </tr>\n",
              "    <tr>\n",
              "      <th>calculated_host_listings_count</th>\n",
              "      <td>0.047043</td>\n",
              "      <td>-0.033148</td>\n",
              "      <td>-0.026347</td>\n",
              "      <td>-0.013855</td>\n",
              "      <td>1.000000</td>\n",
              "      <td>0.073733</td>\n",
              "    </tr>\n",
              "    <tr>\n",
              "      <th>availability_365</th>\n",
              "      <td>-0.015328</td>\n",
              "      <td>-0.016418</td>\n",
              "      <td>0.050653</td>\n",
              "      <td>-0.020716</td>\n",
              "      <td>0.073733</td>\n",
              "      <td>1.000000</td>\n",
              "    </tr>\n",
              "  </tbody>\n",
              "</table>\n",
              "</div>"
            ],
            "text/plain": [
              "                                   price  ...  availability_365\n",
              "price                           1.000000  ...         -0.015328\n",
              "minimum_nights                  0.163318  ...         -0.016418\n",
              "number_of_reviews              -0.162241  ...          0.050653\n",
              "reviews_per_month              -0.162366  ...         -0.020716\n",
              "calculated_host_listings_count  0.047043  ...          0.073733\n",
              "availability_365               -0.015328  ...          1.000000\n",
              "\n",
              "[6 rows x 6 columns]"
            ]
          },
          "metadata": {
            "tags": []
          }
        }
      ]
    },
    {
      "cell_type": "code",
      "metadata": {
        "id": "izND2p2SzQ1m",
        "colab_type": "code",
        "colab": {
          "base_uri": "https://localhost:8080/",
          "height": 411
        },
        "outputId": "a69a2b7c-3a8c-4557-fb36-64ec95f23103"
      },
      "source": [
        "# Na sequência buscou-se construir um mapa de calor (heatmap) a partir dessa matriz.\n",
        "\n",
        "sns.heatmap(corr, cmap='RdBu', fmt='.3f', square=True, linecolor='white', annot=True);\n"
      ],
      "execution_count": 14,
      "outputs": [
        {
          "output_type": "display_data",
          "data": {
            "image/png": "[encoded data removed]",
            "text/plain": [
              "<Figure size 432x288 with 2 Axes>"
            ]
          },
          "metadata": {
            "tags": [],
            "needs_background": "light"
          }
        }
      ]
    },
    {
      "cell_type": "markdown",
      "metadata": {
        "id": "9aIGG-vI0GLO",
        "colab_type": "text"
      },
      "source": [
        "**Quanto matriz de correlação e o mapa de calor, podemos verificar que:**\n",
        "\n",
        "* Conseguimos identificar na matriz e mapa de calor as correlação entre as variáveis plotadas duas a duas nos gráficos, ficando claro que o intervalo de análise varia de (-1 a +1) com forte correlação positiva ou negativa entre variáveis para valores próximos de (+1 ou -1), bem como fraca correlação para valores próximos de (0).\n",
        "\n",
        "* No presente caso identificamos baixa correlação (0) entre as variáveis em análise, com exceção das variáveis numéricas **number_of_reviews** e **reviews_por_month)** que apresentam uma correlação positiva bastante interessante **(0.646)**."
      ]
    },
    {
      "cell_type": "markdown",
      "metadata": {
        "id": "534-Y6RkYy4y",
        "colab_type": "text"
      },
      "source": [
        "### **D. Construindo o Modelo de DS**: \n",
        "\n",
        "Nesta etapa serão selecionadas técnicas de modelagem em Data Science, gerando um design de teste, construindo possíveis modelos para DS como modelos de  machine learning, deep learning, inteligência artificial, visualização de dados (tabelas, gráficos, BI), dentre outras várias técnicas, e por fim, o modelo será avaliado quanto à qualidade das suas previsões (métricas de avaliação do modelo)."
      ]
    },
    {
      "cell_type": "markdown",
      "metadata": {
        "id": "tc4zM-0a8jHq",
        "colab_type": "text"
      },
      "source": [
        "##### **D1. Visualização dos Dados - Problemas Investigados no Projeto**\n",
        "\n",
        "* Quais os principais tipos de imóveis locados na cidade do Rio de Janeiro?\n",
        "* Quais os bairros com maior custo de locação na cidade do Rio de Janeiro?\n",
        "* Qual o custo médio de locação das unidades na cidade do Rio de Janeiro?\n",
        "* Qual a quantidade média de diárias por locação na cidade do Rio de Janeiro?\n",
        "* Qual a disponibidade médias dos imóveis na cidade do Rio de Janeiro?\n",
        "\n"
      ]
    },
    {
      "cell_type": "markdown",
      "metadata": {
        "id": "ZPYbGijJ97sK",
        "colab_type": "text"
      },
      "source": [
        "**Ranking do principais tipos de imóveis locados na cidade do Rio de Janeiro?**"
      ]
    },
    {
      "cell_type": "code",
      "metadata": {
        "id": "yaRWDbAu-OrM",
        "colab_type": "code",
        "colab": {
          "base_uri": "https://localhost:8080/",
          "height": 100
        },
        "outputId": "18bc2f5c-ec67-4890-a0d5-d0ecfbba47f3"
      },
      "source": [
        "# Identificando a quantidade de imóveis por tipo de imóvel disponível. Foi utilizado o método value_counts().\n",
        "\n",
        "df_clean.room_type.value_counts()"
      ],
      "execution_count": 16,
      "outputs": [
        {
          "output_type": "execute_result",
          "data": {
            "text/plain": [
              "Entire home/apt    22418\n",
              "Private room        8969\n",
              "Shared room          765\n",
              "Hotel room           160\n",
              "Name: room_type, dtype: int64"
            ]
          },
          "metadata": {
            "tags": []
          },
          "execution_count": 16
        }
      ]
    },
    {
      "cell_type": "code",
      "metadata": {
        "id": "kqKlxqVw-Oy6",
        "colab_type": "code",
        "colab": {
          "base_uri": "https://localhost:8080/",
          "height": 100
        },
        "outputId": "a3b6e902-065f-48db-ee22-8ca33472a3df"
      },
      "source": [
        "# Verificando o percentual de cada tipo de imóvel no total do conjunto de dados.\n",
        "\n",
        "df_clean.room_type.value_counts() / df_clean.shape[0]"
      ],
      "execution_count": 17,
      "outputs": [
        {
          "output_type": "execute_result",
          "data": {
            "text/plain": [
              "Entire home/apt    0.693798\n",
              "Private room       0.277575\n",
              "Shared room        0.023675\n",
              "Hotel room         0.004952\n",
              "Name: room_type, dtype: float64"
            ]
          },
          "metadata": {
            "tags": []
          },
          "execution_count": 17
        }
      ]
    },
    {
      "cell_type": "markdown",
      "metadata": {
        "id": "apct7gqR_KJr",
        "colab_type": "text"
      },
      "source": [
        "**Quanto aos tipos de imóveis mais locados, podemos verificar que:**\n",
        "\n",
        "* A coluna da variável categórica **room_type** indica o tipo de locação que está anunciada no Airbnb. Se você já alugou no site, sabe que existem opções de **espaço inteiro**(apartamentos/casas), **quarto inteiro**, **quarto compartilhado** e  **quarto de hotel**.\n",
        "\n",
        "* Numa simples análise podemos verificar quase 70% dos imóveis locados pela AirBnb na cidade do Rio de Janeiro estão na categoria de **espaços inteiros** de casa e ou apartamentos (tenha um lugar só para você).\n",
        "\n",
        "* Na sequência com quase 28% temos os **quartos inteiros** (tenha seu próprio quarto e compartilhe alguns espaços comuns).\n",
        "\n",
        "* Na categoria de **quartos compartilhados** (fique em um espaço compartilhado, como um quarto comum) temos próximo de 2,3%.\n",
        "\n",
        "* E por fim, temos **quarto de hotal** (fique em um quarto inteiro ou compartilhado em um hotel boutique, albergue e outros lugares) com ínfimos 0,4%."
      ]
    },
    {
      "cell_type": "code",
      "metadata": {
        "id": "Si4bDjEGDzHg",
        "colab_type": "code",
        "colab": {
          "base_uri": "https://localhost:8080/",
          "height": 300
        },
        "outputId": "cd83c92f-28ce-411a-c434-2b6027e2235a"
      },
      "source": [
        "# Construindo uma análise de uma varíavel (neighbourhood) em função de outra varíavel (price) usando a função groupby.\n",
        "\n",
        "df_clean.groupby(['neighbourhood']).price.mean().sort_values(ascending=False)[:15]"
      ],
      "execution_count": 19,
      "outputs": [
        {
          "output_type": "execute_result",
          "data": {
            "text/plain": [
              "neighbourhood\n",
              "Vaz Lobo                  875.666667\n",
              "Engenheiro Leal           800.000000\n",
              "Ricardo de Albuquerque    601.200000\n",
              "Paciência                 523.555556\n",
              "Lagoa                     522.097859\n",
              "Abolição                  483.666667\n",
              "Leblon                    479.767359\n",
              "Anchieta                  475.600000\n",
              "Deodoro                   474.000000\n",
              "Joá                       472.382979\n",
              "Engenho de Dentro         470.861111\n",
              "Barra da Tijuca           470.478194\n",
              "Inhoaíba                  466.000000\n",
              "Jacarepaguá               465.080763\n",
              "Maracanã                  461.579767\n",
              "Name: price, dtype: float64"
            ]
          },
          "metadata": {
            "tags": []
          },
          "execution_count": 19
        }
      ]
    },
    {
      "cell_type": "markdown",
      "metadata": {
        "id": "PkcCbQpEDQw0",
        "colab_type": "text"
      },
      "source": [
        "**Quanto aos bairros com maior custo de locação do imóvel, podemos verificar que:**\n",
        "\n",
        "* A coluna da variável numérica **price** indica o preço para alugar o imóvel na Airbnb. Dessa forma, combinando os valores da variável **price** com os valores da variável **neighbourhood** podemos encontrar os valores médios por bairro na cidade do Rio de Janeiro com uso da função groupby.\n",
        "\n",
        "* No output acima, podemos identificar que bairros como Vaz Lobo, Engenheiro Leal, Ricardo de Albuquerque e Paciência, estão com média de preço de locação superior a de lugares como Lagoa, Leblon e Barra da Tijuca. O que soa estranho para alguém que conheça os principais pontos turisticos da cidade do Rio de Janeiro. \n",
        "\n",
        "* O que nos leva a necessidade **insvestigarmos novamente** nossa base de dados para verificar a representatividade das amostras de bairros como Vaz Lobo, Engenheiro Leal, Ricardo de Albuquerque e Paciência no conjunto de toda base de dados. **O que sinaliza que a metodologia CRISP-DM apesar de dividida em etapas e construída de forma sequêncial, deve ser aplicada de forma interativa e recorrendo.** No caso em tela fica claro que teríamos que voltar na fase de **preparação dos dados** para aplicação de técnicas de limpeza e transformação de dados para minimizar as ocorrências identificadas.\n"
      ]
    },
    {
      "cell_type": "markdown",
      "metadata": {
        "id": "pZtmWMQZYzKR",
        "colab_type": "text"
      },
      "source": [
        "### **E. Avaliando os Resultados do Projeto de DS:** \n",
        "\n",
        "Avaliando os resultados e processo de revisão."
      ]
    },
    {
      "cell_type": "code",
      "metadata": {
        "id": "cxMqARZFcz0W",
        "colab_type": "code",
        "colab": {}
      },
      "source": [
        ""
      ],
      "execution_count": 0,
      "outputs": []
    },
    {
      "cell_type": "code",
      "metadata": {
        "id": "K-emluCfcz4A",
        "colab_type": "code",
        "colab": {}
      },
      "source": [
        ""
      ],
      "execution_count": 0,
      "outputs": []
    },
    {
      "cell_type": "markdown",
      "metadata": {
        "id": "WRFAyPR8YzeA",
        "colab_type": "text"
      },
      "source": [
        "### **F. Implementação:** \n",
        "\n",
        "Planejamento da implementação, planejamento do monitoramento e a manutenção da solução, produzir um relatório final."
      ]
    },
    {
      "cell_type": "markdown",
      "metadata": {
        "id": "xzrn8Qwbll8U",
        "colab_type": "text"
      },
      "source": [
        "### **Conclusões**"
      ]
    },
    {
      "cell_type": "markdown",
      "metadata": {
        "id": "gZG63IczSmy-",
        "colab_type": "text"
      },
      "source": [
        "### **Referências**\n",
        "\n",
        "Melo. Carlos. Curso Sigmoidal: Data Science na Prática 2.0.2020.\n",
        "\n",
        "P. Chapman, J. Clinton, R. Kerber, T. Khabaza, T. Reinartz, C. Shearer,\n",
        "and R. Wirth, “Crisp–dm 1.0 step-by-step data mining guide,” 2000."
      ]
    }
  ]
}