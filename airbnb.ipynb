{
  "nbformat": 4,
  "nbformat_minor": 0,
  "metadata": {
    "colab": {
      "name": "airbnb.ipynb",
      "provenance": [],
      "collapsed_sections": [],
      "authorship_tag": "ABX9TyN03iObxmKX9huAFV54ioUr",
      "include_colab_link": true
    },
    "kernelspec": {
      "name": "python3",
      "display_name": "Python 3"
    }
  },
  "cells": [
    {
      "cell_type": "markdown",
      "metadata": {
        "id": "view-in-github",
        "colab_type": "text"
      },
      "source": [
        "<a href=\"https://colab.research.google.com/github/consultantleonardoferreira/Projetos-em-Data-Science/blob/master/airbnb.ipynb\" target=\"_parent\"><img src=\"https://colab.research.google.com/assets/colab-badge.svg\" alt=\"Open In Colab\"/></a>"
      ]
    },
    {
      "cell_type": "markdown",
      "metadata": {
        "id": "RSH4pg5LORp7",
        "colab_type": "text"
      },
      "source": [
        "#### **Portfólio de Projetos Data Science**\n",
        "### Análise Exploratória de Dados: **Case Airbnb - Cidade do Rio de Janeiro**\n",
        "*by Leonardo Ferreira*\n",
        "\n",
        "---\n",
        "<img alt=\"Colaboratory logo\" width=\"100%\" src=\"https://raw.githubusercontent.com/consultantleonardoferreira/eds-enem-2018/master/rio-de-janeiro-809756_1920.jpg?token=AOVROUS7PQX3XPLX4XRRF5S65HPYQ\">\n",
        "\n",
        "\n",
        "\n"
      ]
    },
    {
      "cell_type": "markdown",
      "metadata": {
        "id": "rNUADLktQ_8u",
        "colab_type": "text"
      },
      "source": [
        "#### **Metodologia CRISP - DM**\n",
        "\n",
        "A metodologia empregada no projeto foi baseada em **CRISP-DM**\n",
        "(Cross Industry Process Model for Data Mining). A referida metodologia baseia-se em 06 (seis) etapas para construção de projetos na área de Data Science: Entendimento do Negócio, Entendimento dos Dados,  Preparação dos Dados, Construção dos Modelos, Avaliação e Implementação."
      ]
    },
    {
      "cell_type": "code",
      "metadata": {
        "id": "DBA8XiYsc4Sk",
        "colab_type": "code",
        "colab": {}
      },
      "source": [
        ""
      ],
      "execution_count": 0,
      "outputs": []
    },
    {
      "cell_type": "markdown",
      "metadata": {
        "id": "4YtdrPKOVZfK",
        "colab_type": "text"
      },
      "source": [
        "#### **Entendimento de Negócios:** Determinando os objetivos de negócios, avaliando a situação (quais problemas a serem resolvidos?), determinando objetivos para o projeto de Data Science (quais objetivos e métricas de sucesso?)"
      ]
    },
    {
      "cell_type": "markdown",
      "metadata": {
        "id": "XWqdgEqVdE5j",
        "colab_type": "text"
      },
      "source": [
        "O [Airbnb](https://www.airbnb.com.br/) já é considerado a **maior empresa hoteleira da atualidade**. Ah, o detalhe é que ele **não possui nenhum hotel**!\n",
        "\n",
        "Conectando pessoas que querem viajar (e se hospedar) com anfitriões que querem alugar seus imóveis de maneira prática, o Airbnb fornece uma plataforma inovadora para tornar essa hospedagem alternativa.No final de 2018, a Startup fundada 10 anos atrás, já havia **hospedado mais de 300 milhões** de pessoas ao redor de todo o mundo, desafiando as redes hoteleiras tradicionais. Uma das iniciativas do Airbnb é disponibilizar dados do site, para algumas das principais cidades do mundo. \n",
        "\n",
        "<center><img alt=\"Analisando Airbnb\" width=\"30%\" src=\"https://www.area360.com.au/wp-content/uploads/2017/09/airbnb-logo.jpg\"></center>"
      ]
    },
    {
      "cell_type": "code",
      "metadata": {
        "id": "RjM4F4BHbhb-",
        "colab_type": "code",
        "colab": {}
      },
      "source": [
        ""
      ],
      "execution_count": 0,
      "outputs": []
    },
    {
      "cell_type": "markdown",
      "metadata": {
        "id": "K-JRO__xYvxc",
        "colab_type": "text"
      },
      "source": [
        "#### **1. Entendimento dos Dados:** Coletando dados iniciais, descrevendo dados, explorando dados, verificando a qualidade de dados.\n"
      ]
    },
    {
      "cell_type": "markdown",
      "metadata": {
        "id": "U9-tpylpdW4y",
        "colab_type": "text"
      },
      "source": [
        "##### **1.1 Coletando os dados iniciais**\n",
        "\n",
        "Por meio do portal [Inside Airbnb](http://insideairbnb.com/get-the-data.html), é possível baixar uma grande quantidade de dados para desenvolver projetos e soluções em *Data Science*.\n",
        "\n",
        "Dessa forma, foi selecionado o arquivo (listings.csv) - Summary information and metrics for listings in Rio de Janeiro (good for visualisations)."
      ]
    },
    {
      "cell_type": "code",
      "metadata": {
        "id": "LmMKEROuc2JI",
        "colab_type": "code",
        "colab": {}
      },
      "source": [
        "import pandas as pd\n",
        "import matplotlib.pyplot as plt\n",
        "import seaborn as sns\n",
        "%matplotlib inline"
      ],
      "execution_count": 0,
      "outputs": []
    },
    {
      "cell_type": "code",
      "metadata": {
        "id": "7E1cbhnUZLjL",
        "colab_type": "code",
        "colab": {}
      },
      "source": [
        "df = pd.read_csv(\"http://data.insideairbnb.com/brazil/rj/rio-de-janeiro/2020-04-20/visualisations/listings.csv\")"
      ],
      "execution_count": 0,
      "outputs": []
    },
    {
      "cell_type": "markdown",
      "metadata": {
        "id": "zKZbRzZKkfqs",
        "colab_type": "text"
      },
      "source": [
        "##### **1.2 Descrevendo os dados**\n",
        "\n",
        "Nessa etapa os dados são descritos com objetivo de conhecermos seu formato, os tipos de variáveis, bem como aspectos gerais úteis ao entendimento geral do problema.\n",
        "\n"
      ]
    },
    {
      "cell_type": "code",
      "metadata": {
        "id": "sjzvWl_onJeC",
        "colab_type": "code",
        "colab": {
          "base_uri": "https://localhost:8080/",
          "height": 33
        },
        "outputId": "413d0738-d7c7-40cb-f0a5-90ca795f649b"
      },
      "source": [
        "df.shape"
      ],
      "execution_count": 19,
      "outputs": [
        {
          "output_type": "execute_result",
          "data": {
            "text/plain": [
              "(35870, 16)"
            ]
          },
          "metadata": {
            "tags": []
          },
          "execution_count": 19
        }
      ]
    },
    {
      "cell_type": "markdown",
      "metadata": {
        "id": "Wt1-yzfZnXUK",
        "colab_type": "text"
      },
      "source": [
        "Em uma análise inicial percebe-se que o dataset apresenta um total de 35870 linhas, entradas ou observações, bem como um total de 16 colunas, variáveis ou features. Sendo interessante estabelecermos um dicionário com o significado das variáveis (metadados do dataset).\n",
        "\n",
        "**Dicionário das variáveis**\n",
        "\n",
        "* `id` - número de id gerado para identificar o imóvel\n",
        "* `name` - nome da propriedade anunciada\n",
        "* `host_id` - número de id do proprietário (anfitrião) da propriedade\n",
        "* `host_name` - Nome do anfitrião\n",
        "* `neighbourhood_group` - esta coluna não contém nenhum valor válido\n",
        "* `neighbourhood` - nome do bairro\n",
        "* `latitude` - coordenada da latitude da propriedade\n",
        "* `longitude` - coordenada da longitude da propriedade\n",
        "* `room_type` - informa o tipo de quarto que é oferecido\n",
        "* `price` - preço para alugar o imóvel\n",
        "* `minimum_nights` - quantidade mínima de noites para reservar\n",
        "* `number_of_reviews` - número de reviews que a propriedade possui\n",
        "* `last_review` - data do último review\n",
        "* `reviews_per_month` - quantidade de reviews por mês\n",
        "* `calculated_host_listings_count` - quantidade de imóveis do mesmo anfitrião\n",
        "* `availability_365` - número de dias de disponibilidade dentro de 365 dias\n",
        "\n",
        "Adicionalmente, é bastante interessante verificarmos os tipos das variáveis que integram no dataset: interias, float, objetos. Tal análise poderá indicar na fase de limpeza de dados a necessidade de transformações para melhor aplicação de técnicas de Data Science."
      ]
    },
    {
      "cell_type": "code",
      "metadata": {
        "id": "wTvYCJBIpVDM",
        "colab_type": "code",
        "colab": {
          "base_uri": "https://localhost:8080/",
          "height": 300
        },
        "outputId": "4db3cf99-c519-4016-d406-7c7cf4ede0f6"
      },
      "source": [
        "display(df.dtypes)"
      ],
      "execution_count": 20,
      "outputs": [
        {
          "output_type": "display_data",
          "data": {
            "text/plain": [
              "id                                  int64\n",
              "name                               object\n",
              "host_id                             int64\n",
              "host_name                          object\n",
              "neighbourhood_group               float64\n",
              "neighbourhood                      object\n",
              "latitude                          float64\n",
              "longitude                         float64\n",
              "room_type                          object\n",
              "price                               int64\n",
              "minimum_nights                      int64\n",
              "number_of_reviews                   int64\n",
              "last_review                        object\n",
              "reviews_per_month                 float64\n",
              "calculated_host_listings_count      int64\n",
              "availability_365                    int64\n",
              "dtype: object"
            ]
          },
          "metadata": {
            "tags": []
          }
        }
      ]
    },
    {
      "cell_type": "markdown",
      "metadata": {
        "id": "jC5lOhERpbMG",
        "colab_type": "text"
      },
      "source": [
        "E por fim, nesse etapa, é interessante vermos a estrutura do dataset com suas linhas e colunas dispostos em forma tabular (Data Frame)."
      ]
    },
    {
      "cell_type": "code",
      "metadata": {
        "id": "GGZhJyQNkG6x",
        "colab_type": "code",
        "colab": {}
      },
      "source": [
        "df.head()\n",
        "df.tail()"
      ],
      "execution_count": 0,
      "outputs": []
    },
    {
      "cell_type": "markdown",
      "metadata": {
        "id": "qA8Sy7ApqRzm",
        "colab_type": "text"
      },
      "source": [
        "##### **1.3 Qualidade dos dados**\n",
        "\n"
      ]
    },
    {
      "cell_type": "markdown",
      "metadata": {
        "id": "BcVtLgapYynW",
        "colab_type": "text"
      },
      "source": [
        "#### **Preparação de Dados:** Selecionando os dados, limpando os dados, construindo novos dados, integrando dados e formatando dados."
      ]
    },
    {
      "cell_type": "code",
      "metadata": {
        "id": "aCkiy6X8c1SC",
        "colab_type": "code",
        "colab": {}
      },
      "source": [
        ""
      ],
      "execution_count": 0,
      "outputs": []
    },
    {
      "cell_type": "code",
      "metadata": {
        "id": "pPghtxwcc1V8",
        "colab_type": "code",
        "colab": {}
      },
      "source": [
        ""
      ],
      "execution_count": 0,
      "outputs": []
    },
    {
      "cell_type": "markdown",
      "metadata": {
        "id": "534-Y6RkYy4y",
        "colab_type": "text"
      },
      "source": [
        "#### **Modelando**: Selecionando técnicas de modelagem em Data Science, gerando um design de teste, construindo modelos:machine learning, deep learning, inteligência artificaial, avaliando os modelos."
      ]
    },
    {
      "cell_type": "code",
      "metadata": {
        "id": "6Dqm6UyJc0gr",
        "colab_type": "code",
        "colab": {}
      },
      "source": [
        ""
      ],
      "execution_count": 0,
      "outputs": []
    },
    {
      "cell_type": "code",
      "metadata": {
        "id": "vvnJyCBDcBAN",
        "colab_type": "code",
        "colab": {}
      },
      "source": [
        ""
      ],
      "execution_count": 0,
      "outputs": []
    },
    {
      "cell_type": "markdown",
      "metadata": {
        "id": "pZtmWMQZYzKR",
        "colab_type": "text"
      },
      "source": [
        "#### **Avaliação:** Avaliando os resultados e processo de revisão."
      ]
    },
    {
      "cell_type": "code",
      "metadata": {
        "id": "cxMqARZFcz0W",
        "colab_type": "code",
        "colab": {}
      },
      "source": [
        ""
      ],
      "execution_count": 0,
      "outputs": []
    },
    {
      "cell_type": "code",
      "metadata": {
        "id": "K-emluCfcz4A",
        "colab_type": "code",
        "colab": {}
      },
      "source": [
        ""
      ],
      "execution_count": 0,
      "outputs": []
    },
    {
      "cell_type": "markdown",
      "metadata": {
        "id": "WRFAyPR8YzeA",
        "colab_type": "text"
      },
      "source": [
        "#### **Implementação:** Planejamento da implementação, planejamento do monitoramento e a manutenção da solução, produzir um relatório final."
      ]
    },
    {
      "cell_type": "markdown",
      "metadata": {
        "id": "gZG63IczSmy-",
        "colab_type": "text"
      },
      "source": [
        "### **Referências**\n",
        "\n",
        "P. Chapman, J. Clinton, R. Kerber, T. Khabaza, T. Reinartz, C. Shearer,\n",
        "and R. Wirth, “Crisp–dm 1.0 step-by-step data mining guide,” 2000."
      ]
    }
  ]
}