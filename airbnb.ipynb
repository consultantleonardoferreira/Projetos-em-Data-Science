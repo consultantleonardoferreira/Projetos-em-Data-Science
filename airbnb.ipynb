{
  "nbformat": 4,
  "nbformat_minor": 0,
  "metadata": {
    "colab": {
      "name": "airbnb.ipynb",
      "provenance": [],
      "collapsed_sections": [],
      "authorship_tag": "ABX9TyNJEVJlPaItfgxG48lQ1Fy/",
      "include_colab_link": true
    },
    "kernelspec": {
      "name": "python3",
      "display_name": "Python 3"
    }
  },
  "cells": [
    {
      "cell_type": "markdown",
      "metadata": {
        "id": "view-in-github",
        "colab_type": "text"
      },
      "source": [
        "<a href=\"https://colab.research.google.com/github/consultantleonardoferreira/Projetos-em-Data-Science/blob/master/airbnb.ipynb\" target=\"_parent\"><img src=\"https://colab.research.google.com/assets/colab-badge.svg\" alt=\"Open In Colab\"/></a>"
      ]
    },
    {
      "cell_type": "markdown",
      "metadata": {
        "id": "RSH4pg5LORp7",
        "colab_type": "text"
      },
      "source": [
        "#### **Portfólio de Projetos Data Science**\n",
        "### Análise Exploratória de Dados: **Case Airbnb - Cidade do Rio de Janeiro**\n",
        "*by Leonardo Ferreira*\n",
        "\n",
        "---\n",
        "<img alt=\"Colaboratory logo\" width=\"100%\" src=\"https://raw.githubusercontent.com/consultantleonardoferreira/eds-enem-2018/master/rio-de-janeiro-809756_1920.jpg?token=AOVROUS7PQX3XPLX4XRRF5S65HPYQ\">\n",
        "\n",
        "\n",
        "\n"
      ]
    },
    {
      "cell_type": "markdown",
      "metadata": {
        "id": "rNUADLktQ_8u",
        "colab_type": "text"
      },
      "source": [
        "#### **Metodologia CRISP - DM**\n",
        "\n",
        "A metodologia empregada no projeto foi baseada em **CRISP-DM**\n",
        "(Cross Industry Process Model for Data Mining). A referida metodologia baseia-se em 06 (seis) etapas para construção de projetos na área de Data Science: Entendimento do Negócio, Entendimento dos Dados,  Preparação dos Dados, Construção dos Modelos, Avaliação e Implementação."
      ]
    },
    {
      "cell_type": "markdown",
      "metadata": {
        "id": "4YtdrPKOVZfK",
        "colab_type": "text"
      },
      "source": [
        "#### **Entendimento de Negócios:** Determinando os objetivos de negócios, avaliando a situação (quais problemas a serem resolvidos?), determinando objetivos para o projeto de Data Science (quais objetivos e métricas de sucesso?)"
      ]
    },
    {
      "cell_type": "markdown",
      "metadata": {
        "id": "XWqdgEqVdE5j",
        "colab_type": "text"
      },
      "source": [
        "O [Airbnb](https://www.airbnb.com.br/) já é considerado a **maior empresa hoteleira da atualidade**. Ah, o detalhe é que ele **não possui nenhum hotel**!\n",
        "\n",
        "Conectando pessoas que querem viajar (e se hospedar) com anfitriões que querem alugar seus imóveis de maneira prática, o Airbnb fornece uma plataforma inovadora para tornar essa hospedagem alternativa.No final de 2018, a Startup fundada 10 anos atrás, já havia **hospedado mais de 300 milhões** de pessoas ao redor de todo o mundo, desafiando as redes hoteleiras tradicionais. Uma das iniciativas do Airbnb é disponibilizar dados do site, para algumas das principais cidades do mundo. \n",
        "\n",
        "<center><img alt=\"Analisando Airbnb\" width=\"30%\" src=\"https://www.area360.com.au/wp-content/uploads/2017/09/airbnb-logo.jpg\"></center>"
      ]
    },
    {
      "cell_type": "markdown",
      "metadata": {
        "id": "K-JRO__xYvxc",
        "colab_type": "text"
      },
      "source": [
        "#### **1. Entendimento dos Dados:** Coletando dados iniciais, descrevendo dados, explorando dados, verificando a qualidade de dados.\n"
      ]
    },
    {
      "cell_type": "markdown",
      "metadata": {
        "id": "U9-tpylpdW4y",
        "colab_type": "text"
      },
      "source": [
        "##### **1.1 Coletando os dados iniciais**\n",
        "\n",
        "Por meio do portal [Inside Airbnb](http://insideairbnb.com/get-the-data.html), é possível baixar uma grande quantidade de dados para desenvolver projetos e soluções em *Data Science*.\n",
        "\n",
        "Dessa forma, foi selecionado o arquivo (listings.csv) - Summary information and metrics for listings in Rio de Janeiro (good for visualisations)."
      ]
    },
    {
      "cell_type": "code",
      "metadata": {
        "id": "LmMKEROuc2JI",
        "colab_type": "code",
        "colab": {}
      },
      "source": [
        "import pandas as pd\n",
        "import matplotlib.pyplot as plt\n",
        "import seaborn as sns\n",
        "%matplotlib inline"
      ],
      "execution_count": 0,
      "outputs": []
    },
    {
      "cell_type": "code",
      "metadata": {
        "id": "7E1cbhnUZLjL",
        "colab_type": "code",
        "colab": {}
      },
      "source": [
        "df = pd.read_csv(\"http://data.insideairbnb.com/brazil/rj/rio-de-janeiro/2020-04-20/visualisations/listings.csv\")"
      ],
      "execution_count": 0,
      "outputs": []
    },
    {
      "cell_type": "markdown",
      "metadata": {
        "id": "zKZbRzZKkfqs",
        "colab_type": "text"
      },
      "source": [
        "##### **1.2 Descrevendo os dados**\n",
        "\n",
        "Nessa etapa os dados são descritos com objetivo de conhecermos seu formato, os tipos de variáveis, bem como aspectos gerais úteis ao entendimento geral do problema.\n",
        "\n"
      ]
    },
    {
      "cell_type": "code",
      "metadata": {
        "id": "sjzvWl_onJeC",
        "colab_type": "code",
        "colab": {
          "base_uri": "https://localhost:8080/",
          "height": 33
        },
        "outputId": "413d0738-d7c7-40cb-f0a5-90ca795f649b"
      },
      "source": [
        "df.shape"
      ],
      "execution_count": 19,
      "outputs": [
        {
          "output_type": "execute_result",
          "data": {
            "text/plain": [
              "(35870, 16)"
            ]
          },
          "metadata": {
            "tags": []
          },
          "execution_count": 19
        }
      ]
    },
    {
      "cell_type": "markdown",
      "metadata": {
        "id": "Wt1-yzfZnXUK",
        "colab_type": "text"
      },
      "source": [
        "Em uma análise inicial percebe-se que o dataset apresenta um total de 35870 linhas, entradas ou observações, bem como um total de 16 colunas, variáveis ou features. Sendo interessante estabelecermos um dicionário com o significado das variáveis (metadados do dataset).\n",
        "\n",
        "**Dicionário das variáveis**\n",
        "\n",
        "* `id` - número de id gerado para identificar o imóvel\n",
        "* `name` - nome da propriedade anunciada\n",
        "* `host_id` - número de id do proprietário (anfitrião) da propriedade\n",
        "* `host_name` - Nome do anfitrião\n",
        "* `neighbourhood_group` - esta coluna não contém nenhum valor válido\n",
        "* `neighbourhood` - nome do bairro\n",
        "* `latitude` - coordenada da latitude da propriedade\n",
        "* `longitude` - coordenada da longitude da propriedade\n",
        "* `room_type` - informa o tipo de quarto que é oferecido\n",
        "* `price` - preço para alugar o imóvel\n",
        "* `minimum_nights` - quantidade mínima de noites para reservar\n",
        "* `number_of_reviews` - número de reviews que a propriedade possui\n",
        "* `last_review` - data do último review\n",
        "* `reviews_per_month` - quantidade de reviews por mês\n",
        "* `calculated_host_listings_count` - quantidade de imóveis do mesmo anfitrião\n",
        "* `availability_365` - número de dias de disponibilidade dentro de 365 dias\n",
        "\n",
        "Adicionalmente, é bastante interessante verificarmos os tipos das variáveis que integram no dataset: interias, float, objetos. Tal análise poderá indicar na fase de limpeza de dados a necessidade de transformações para melhor aplicação de técnicas de Data Science."
      ]
    },
    {
      "cell_type": "code",
      "metadata": {
        "id": "wTvYCJBIpVDM",
        "colab_type": "code",
        "colab": {
          "base_uri": "https://localhost:8080/",
          "height": 300
        },
        "outputId": "4db3cf99-c519-4016-d406-7c7cf4ede0f6"
      },
      "source": [
        "display(df.dtypes)"
      ],
      "execution_count": 20,
      "outputs": [
        {
          "output_type": "display_data",
          "data": {
            "text/plain": [
              "id                                  int64\n",
              "name                               object\n",
              "host_id                             int64\n",
              "host_name                          object\n",
              "neighbourhood_group               float64\n",
              "neighbourhood                      object\n",
              "latitude                          float64\n",
              "longitude                         float64\n",
              "room_type                          object\n",
              "price                               int64\n",
              "minimum_nights                      int64\n",
              "number_of_reviews                   int64\n",
              "last_review                        object\n",
              "reviews_per_month                 float64\n",
              "calculated_host_listings_count      int64\n",
              "availability_365                    int64\n",
              "dtype: object"
            ]
          },
          "metadata": {
            "tags": []
          }
        }
      ]
    },
    {
      "cell_type": "markdown",
      "metadata": {
        "id": "jC5lOhERpbMG",
        "colab_type": "text"
      },
      "source": [
        "E por fim, nesse etapa, é interessante vermos a estrutura do dataset com suas linhas e colunas dispostos em forma tabular (Data Frame)."
      ]
    },
    {
      "cell_type": "code",
      "metadata": {
        "id": "GGZhJyQNkG6x",
        "colab_type": "code",
        "colab": {}
      },
      "source": [
        "df.head()\n",
        "df.tail()"
      ],
      "execution_count": 0,
      "outputs": []
    },
    {
      "cell_type": "markdown",
      "metadata": {
        "id": "qA8Sy7ApqRzm",
        "colab_type": "text"
      },
      "source": [
        "##### **1.3 Qualidade dos dados**\n",
        "\n",
        "Agora que já conhecemos a estrutura de nossos dados passamos para etapa de identificação da qualidade de nossos dados, com especial atenção para identificação de valores faltantes, presença de outliers, dentre outras questões. \n",
        "\n",
        "**Quanto à questão de dados faltantes, em uma breve verificação podemos identificar que:**\n",
        "\n",
        "* A coluna `neighbourhood_group` possui 100% dos seus valores faltantes. \n",
        "* As variáveis `reviews_per_month` e `last_review` possuem valores nulos em quase metade das linhas.\n",
        "* As variáveis `name` e `host_name` têm aproximadamente 0,1% dos valores nulos.\n",
        "\n",
        "**Quanto à questão da presença de outliers, em uma rápida análise podemos identificar que:** \n",
        "\n",
        "Pela distribuição do histograma, é possível verificar indícios da presença de *outliers*. Olhe por exemplo as variáveis `price`, `minimum_nights` e `calculated_host_listings_count`.\n",
        "\n",
        "Os valores não seguem uma distruição, e distorcem toda a representação gráfica. Para confirmar, há duas maneiras rápidas que auxiliam a detecção de *outliers*. São elas:\n",
        "\n",
        "* Resumo estatístico por meio do método `describe()`\n",
        "* Plotar `boxplots` para a variável.\n",
        "\n",
        "**Quanto ao resumo das estatísticas, das variáveis numéricas do dataset, podemos verificar que:**\n",
        "\n",
        "* A variável `price` possui 75% do valor abaixo de 632, porém seu valor máximo é 131727.\n",
        "* A quantidade mínima de noites (`minimum_nights`) está acima de 365 dias no ano."
      ]
    },
    {
      "cell_type": "code",
      "metadata": {
        "id": "yi7UTMYIrxHY",
        "colab_type": "code",
        "colab": {
          "base_uri": "https://localhost:8080/",
          "height": 300
        },
        "outputId": "b5f6c40b-5d52-4a40-d2e0-df0efce453b1"
      },
      "source": [
        "(df.isnull().sum() / df.shape[0]).sort_values(ascending=False)"
      ],
      "execution_count": 22,
      "outputs": [
        {
          "output_type": "execute_result",
          "data": {
            "text/plain": [
              "neighbourhood_group               1.000000\n",
              "reviews_per_month                 0.411653\n",
              "last_review                       0.411653\n",
              "name                              0.001617\n",
              "host_name                         0.000139\n",
              "availability_365                  0.000000\n",
              "calculated_host_listings_count    0.000000\n",
              "number_of_reviews                 0.000000\n",
              "minimum_nights                    0.000000\n",
              "price                             0.000000\n",
              "room_type                         0.000000\n",
              "longitude                         0.000000\n",
              "latitude                          0.000000\n",
              "neighbourhood                     0.000000\n",
              "host_id                           0.000000\n",
              "id                                0.000000\n",
              "dtype: float64"
            ]
          },
          "metadata": {
            "tags": []
          },
          "execution_count": 22
        }
      ]
    },
    {
      "cell_type": "code",
      "metadata": {
        "id": "0lVEVctptJef",
        "colab_type": "code",
        "colab": {
          "base_uri": "https://localhost:8080/",
          "height": 606
        },
        "outputId": "ad1d97fc-1ca1-4b46-e058-ef1514688146"
      },
      "source": [
        "df.hist(bins=15, figsize=(15,10));"
      ],
      "execution_count": 23,
      "outputs": [
        {
          "output_type": "display_data",
          "data": {
            "image/png": "[encoded data removed]",
            "text/plain": [
              "<Figure size 1080x720 with 12 Axes>"
            ]
          },
          "metadata": {
            "tags": [],
            "needs_background": "light"
          }
        }
      ]
    },
    {
      "cell_type": "code",
      "metadata": {
        "id": "uG6lFahDwMj3",
        "colab_type": "code",
        "colab": {
          "base_uri": "https://localhost:8080/",
          "height": 287
        },
        "outputId": "48bed35e-0fc9-4333-b11e-292c415e74c2"
      },
      "source": [
        "df[['price', 'minimum_nights', 'number_of_reviews', 'reviews_per_month',\n",
        "    'calculated_host_listings_count', 'availability_365']].describe()"
      ],
      "execution_count": 24,
      "outputs": [
        {
          "output_type": "execute_result",
          "data": {
            "text/html": [
              "<div>\n",
              "<style scoped>\n",
              "    .dataframe tbody tr th:only-of-type {\n",
              "        vertical-align: middle;\n",
              "    }\n",
              "\n",
              "    .dataframe tbody tr th {\n",
              "        vertical-align: top;\n",
              "    }\n",
              "\n",
              "    .dataframe thead th {\n",
              "        text-align: right;\n",
              "    }\n",
              "</style>\n",
              "<table border=\"1\" class=\"dataframe\">\n",
              "  <thead>\n",
              "    <tr style=\"text-align: right;\">\n",
              "      <th></th>\n",
              "      <th>price</th>\n",
              "      <th>minimum_nights</th>\n",
              "      <th>number_of_reviews</th>\n",
              "      <th>reviews_per_month</th>\n",
              "      <th>calculated_host_listings_count</th>\n",
              "      <th>availability_365</th>\n",
              "    </tr>\n",
              "  </thead>\n",
              "  <tbody>\n",
              "    <tr>\n",
              "      <th>count</th>\n",
              "      <td>35870.000000</td>\n",
              "      <td>35870.000000</td>\n",
              "      <td>35870.000000</td>\n",
              "      <td>21104.000000</td>\n",
              "      <td>35870.000000</td>\n",
              "      <td>35870.000000</td>\n",
              "    </tr>\n",
              "    <tr>\n",
              "      <th>mean</th>\n",
              "      <td>753.686367</td>\n",
              "      <td>4.781851</td>\n",
              "      <td>9.822972</td>\n",
              "      <td>0.652248</td>\n",
              "      <td>6.613995</td>\n",
              "      <td>180.371815</td>\n",
              "    </tr>\n",
              "    <tr>\n",
              "      <th>std</th>\n",
              "      <td>2229.366334</td>\n",
              "      <td>22.471085</td>\n",
              "      <td>25.827647</td>\n",
              "      <td>0.823388</td>\n",
              "      <td>22.769663</td>\n",
              "      <td>152.510778</td>\n",
              "    </tr>\n",
              "    <tr>\n",
              "      <th>min</th>\n",
              "      <td>0.000000</td>\n",
              "      <td>1.000000</td>\n",
              "      <td>0.000000</td>\n",
              "      <td>0.010000</td>\n",
              "      <td>1.000000</td>\n",
              "      <td>0.000000</td>\n",
              "    </tr>\n",
              "    <tr>\n",
              "      <th>25%</th>\n",
              "      <td>158.000000</td>\n",
              "      <td>1.000000</td>\n",
              "      <td>0.000000</td>\n",
              "      <td>0.130000</td>\n",
              "      <td>1.000000</td>\n",
              "      <td>0.000000</td>\n",
              "    </tr>\n",
              "    <tr>\n",
              "      <th>50%</th>\n",
              "      <td>298.000000</td>\n",
              "      <td>2.000000</td>\n",
              "      <td>1.000000</td>\n",
              "      <td>0.340000</td>\n",
              "      <td>1.000000</td>\n",
              "      <td>178.000000</td>\n",
              "    </tr>\n",
              "    <tr>\n",
              "      <th>75%</th>\n",
              "      <td>632.000000</td>\n",
              "      <td>4.000000</td>\n",
              "      <td>6.000000</td>\n",
              "      <td>0.830000</td>\n",
              "      <td>3.000000</td>\n",
              "      <td>363.000000</td>\n",
              "    </tr>\n",
              "    <tr>\n",
              "      <th>max</th>\n",
              "      <td>131727.000000</td>\n",
              "      <td>1123.000000</td>\n",
              "      <td>399.000000</td>\n",
              "      <td>9.570000</td>\n",
              "      <td>200.000000</td>\n",
              "      <td>365.000000</td>\n",
              "    </tr>\n",
              "  </tbody>\n",
              "</table>\n",
              "</div>"
            ],
            "text/plain": [
              "               price  ...  availability_365\n",
              "count   35870.000000  ...      35870.000000\n",
              "mean      753.686367  ...        180.371815\n",
              "std      2229.366334  ...        152.510778\n",
              "min         0.000000  ...          0.000000\n",
              "25%       158.000000  ...          0.000000\n",
              "50%       298.000000  ...        178.000000\n",
              "75%       632.000000  ...        363.000000\n",
              "max    131727.000000  ...        365.000000\n",
              "\n",
              "[8 rows x 6 columns]"
            ]
          },
          "metadata": {
            "tags": []
          },
          "execution_count": 24
        }
      ]
    },
    {
      "cell_type": "markdown",
      "metadata": {
        "id": "BcVtLgapYynW",
        "colab_type": "text"
      },
      "source": [
        "#### **Preparação de Dados:** Selecionando os dados, limpando os dados, construindo novos dados, integrando dados e formatando dados."
      ]
    },
    {
      "cell_type": "code",
      "metadata": {
        "id": "aCkiy6X8c1SC",
        "colab_type": "code",
        "colab": {}
      },
      "source": [
        ""
      ],
      "execution_count": 0,
      "outputs": []
    },
    {
      "cell_type": "code",
      "metadata": {
        "id": "pPghtxwcc1V8",
        "colab_type": "code",
        "colab": {}
      },
      "source": [
        ""
      ],
      "execution_count": 0,
      "outputs": []
    },
    {
      "cell_type": "markdown",
      "metadata": {
        "id": "534-Y6RkYy4y",
        "colab_type": "text"
      },
      "source": [
        "#### **Modelando**: Selecionando técnicas de modelagem em Data Science, gerando um design de teste, construindo modelos:machine learning, deep learning, inteligência artificaial, avaliando os modelos."
      ]
    },
    {
      "cell_type": "code",
      "metadata": {
        "id": "6Dqm6UyJc0gr",
        "colab_type": "code",
        "colab": {}
      },
      "source": [
        ""
      ],
      "execution_count": 0,
      "outputs": []
    },
    {
      "cell_type": "code",
      "metadata": {
        "id": "vvnJyCBDcBAN",
        "colab_type": "code",
        "colab": {}
      },
      "source": [
        ""
      ],
      "execution_count": 0,
      "outputs": []
    },
    {
      "cell_type": "markdown",
      "metadata": {
        "id": "pZtmWMQZYzKR",
        "colab_type": "text"
      },
      "source": [
        "#### **Avaliação:** Avaliando os resultados e processo de revisão."
      ]
    },
    {
      "cell_type": "code",
      "metadata": {
        "id": "cxMqARZFcz0W",
        "colab_type": "code",
        "colab": {}
      },
      "source": [
        ""
      ],
      "execution_count": 0,
      "outputs": []
    },
    {
      "cell_type": "code",
      "metadata": {
        "id": "K-emluCfcz4A",
        "colab_type": "code",
        "colab": {}
      },
      "source": [
        ""
      ],
      "execution_count": 0,
      "outputs": []
    },
    {
      "cell_type": "markdown",
      "metadata": {
        "id": "WRFAyPR8YzeA",
        "colab_type": "text"
      },
      "source": [
        "#### **Implementação:** Planejamento da implementação, planejamento do monitoramento e a manutenção da solução, produzir um relatório final."
      ]
    },
    {
      "cell_type": "markdown",
      "metadata": {
        "id": "gZG63IczSmy-",
        "colab_type": "text"
      },
      "source": [
        "### **Referências**\n",
        "\n",
        "P. Chapman, J. Clinton, R. Kerber, T. Khabaza, T. Reinartz, C. Shearer,\n",
        "and R. Wirth, “Crisp–dm 1.0 step-by-step data mining guide,” 2000."
      ]
    }
  ]
}